{
  "nbformat": 4,
  "nbformat_minor": 0,
  "metadata": {
    "colab": {
      "name": "Special_Issue_Formatted_Code.ipynb",
      "provenance": [],
      "collapsed_sections": [],
      "toc_visible": true
    },
    "kernelspec": {
      "name": "python3",
      "display_name": "Python 3"
    }
  },
  "cells": [
    {
      "cell_type": "markdown",
      "metadata": {
        "id": "ZcDc_NnRj7zx"
      },
      "source": [
        "#Making the Case for Federated Learning in the Internet of Vehicles and Intelligent Transportation Systems - Case Study\r\n",
        "\r\n",
        "The following notebook presents the code used in the case study of the IEEE Network Magazine article entitiled \"Making a Case for Federated Learning in the Internet of Vehicles and Intelligent Transportation Systems\" published in the May 2021 Special Issue entitled \"AI-Empowered Mobile Edge Computing in the Internet of Vehicles\". The paper is available as a preprint (--insert link) and through IEEE Xplore (--insert link).\r\n",
        "\r\n",
        "The authors of this notebook are Dimitrios Micheal Manias (dmanias3@uwo.ca) and Abdallah Shami (Abdallah.Shami@uwo.ca). Both authors are with The Department of Electrical and Computer Engineering at Western University (London, Ontario, Canada) and members of The Optimized Computing and Communications (OC2) Lab."
      ]
    },
    {
      "cell_type": "markdown",
      "metadata": {
        "id": "7A-1KdA1mXke"
      },
      "source": [
        "#Imports and Preamble"
      ]
    },
    {
      "cell_type": "code",
      "metadata": {
        "colab": {
          "base_uri": "https://localhost:8080/"
        },
        "id": "QEP6kgItmbv-",
        "outputId": "439e92de-81e0-41dd-d3d7-f13926ef335d"
      },
      "source": [
        "#update tff package\r\n",
        "!pip install --quiet --upgrade tensorflow_federated\r\n",
        "\r\n",
        "# NOTE: Jupyter requires a patch to asyncio.\r\n",
        "!pip install --quiet --upgrade nest_asyncio\r\n",
        "import nest_asyncio\r\n",
        "nest_asyncio.apply()\r\n",
        "\r\n",
        "%load_ext tensorboard\r\n",
        "import collections\r\n",
        "import numpy as np\r\n",
        "import tensorflow as tf\r\n",
        "import tensorflow_federated as tff\r\n",
        "import random\r\n",
        "import pandas as pd\r\n",
        "import matplotlib.pyplot as plt\r\n",
        "from sklearn.metrics import accuracy_score\r\n",
        "import seaborn as sns\r\n",
        "sns.set_context('poster')\r\n",
        "tf.compat.v1.enable_v2_behavior()\r\n",
        "\r\n",
        "#set random seed\r\n",
        "np.random.seed(0)\r\n",
        "\r\n",
        "#test and ensure federate computation is operational\r\n",
        "tff.federated_computation(lambda: 'Hello, World!')()"
      ],
      "execution_count": 1,
      "outputs": [
        {
          "output_type": "stream",
          "text": [
            "WARNING:tensorflow:From /usr/local/lib/python3.6/dist-packages/tensorflow_federated/python/core/impl/compiler/tensorflow_computation_transformations.py:59: extract_sub_graph (from tensorflow.python.framework.graph_util_impl) is deprecated and will be removed in a future version.\n",
            "Instructions for updating:\n",
            "Use `tf.compat.v1.graph_util.extract_sub_graph`\n"
          ],
          "name": "stdout"
        },
        {
          "output_type": "stream",
          "text": [
            "WARNING:tensorflow:From /usr/local/lib/python3.6/dist-packages/tensorflow_federated/python/core/impl/compiler/tensorflow_computation_transformations.py:59: extract_sub_graph (from tensorflow.python.framework.graph_util_impl) is deprecated and will be removed in a future version.\n",
            "Instructions for updating:\n",
            "Use `tf.compat.v1.graph_util.extract_sub_graph`\n"
          ],
          "name": "stderr"
        },
        {
          "output_type": "execute_result",
          "data": {
            "text/plain": [
              "b'Hello, World!'"
            ]
          },
          "metadata": {
            "tags": []
          },
          "execution_count": 1
        }
      ]
    },
    {
      "cell_type": "markdown",
      "metadata": {
        "id": "2Cyi4cXyj8fl"
      },
      "source": [
        "# Federated Learning Process\r\n",
        "\r\n",
        "The following section describes the federated learning process. In this scenario, there are 10 clients partaking in the process each of which has a dataset containing images of numbers from the MNIST benchmarking dataset. This scenario simulates an image processing task where each RoadSide Unit (RSU) is responsible for collecting and predicting a label. For more information about the simulation please consult the publication."
      ]
    },
    {
      "cell_type": "code",
      "metadata": {
        "id": "uhx0zbzSYWQC"
      },
      "source": [
        "#import mnist dataset \r\n",
        "mnist_train, mnist_test = tf.keras.datasets.mnist.load_data()"
      ],
      "execution_count": 2,
      "outputs": []
    },
    {
      "cell_type": "code",
      "metadata": {
        "id": "4DjhMy9rQRcq"
      },
      "source": [
        "#create client datasets\r\n",
        "\r\n",
        "testing_img = []\r\n",
        "testing_label = []\r\n",
        "\r\n",
        "#select 5000 images then flatten them\r\n",
        "for i in range(5000):\r\n",
        "  testing_img.append([mnist_train[0][i].flatten()])\r\n",
        "  testing_label.append(mnist_train[1][i])\r\n",
        "client_names = []\r\n",
        "\r\n",
        "#randomly assign images to one of 10 clients\r\n",
        "for i in range(5000):\r\n",
        "  client_names.append(random.randint(0,9))"
      ],
      "execution_count": 3,
      "outputs": []
    },
    {
      "cell_type": "code",
      "metadata": {
        "id": "zjOjlHlsYnjU"
      },
      "source": [
        "#create a dataframe containing the client id, the flattent image, and the label\r\n",
        "df = pd.concat([pd.DataFrame({'Client':client_names}),pd.DataFrame({'pixels':testing_img}),pd.DataFrame({'label':testing_label})] ,axis=1)\r\n",
        "\r\n",
        "#inspect the first 5 entries of the dataframe\r\n",
        "df.head()\r\n",
        "\r\n",
        "#define client_id_colname \r\n",
        "client_id_colname = 'Client'"
      ],
      "execution_count": 4,
      "outputs": []
    },
    {
      "cell_type": "code",
      "metadata": {
        "id": "bEdXIvjRZEoT"
      },
      "source": [
        "#define function to create dataset for each client\r\n",
        "\r\n",
        "def create_tf_dataset_for_client_fn(client_id):\r\n",
        "  #extract dataframe rows matching the client_id\r\n",
        "  client_data = df[df[client_id_colname]==client_id]\r\n",
        "  dataset = tf.data.Dataset.from_tensor_slices(client_data.to_dict('list'))\r\n",
        "  dataset = dataset.shuffle(10).batch(1).repeat(20)\r\n",
        "  return dataset"
      ],
      "execution_count": 5,
      "outputs": []
    },
    {
      "cell_type": "code",
      "metadata": {
        "id": "moWw4zruZVZF"
      },
      "source": [
        "# create training datasets for each client\r\n",
        "\r\n",
        "train_data = tff.simulation.ClientData.from_clients_and_fn(client_ids=[0,1,2,3,4,5,6,7,8,9], create_tf_dataset_for_client_fn = create_tf_dataset_for_client_fn)"
      ],
      "execution_count": 6,
      "outputs": []
    },
    {
      "cell_type": "code",
      "metadata": {
        "colab": {
          "base_uri": "https://localhost:8080/"
        },
        "id": "VOv_eF0AZgVI",
        "outputId": "5e0cb148-efde-4072-9b50-d8ae6f999960"
      },
      "source": [
        "#create an example dataset to test client dataset creation process\r\n",
        "#examine type and format\r\n",
        "\r\n",
        "example_dataset = train_data.create_tf_dataset_for_client(\r\n",
        "        train_data.client_ids[0])\r\n",
        "print(type(example_dataset))\r\n",
        "example_element = iter(example_dataset).next()\r\n",
        "print(example_element)"
      ],
      "execution_count": 7,
      "outputs": [
        {
          "output_type": "stream",
          "text": [
            "<class 'tensorflow.python.data.ops.dataset_ops.RepeatDataset'>\n",
            "{'Client': <tf.Tensor: shape=(1,), dtype=int32, numpy=array([0], dtype=int32)>, 'pixels': <tf.Tensor: shape=(1, 1, 784), dtype=uint8, numpy=\n",
            "array([[[  0,   0,   0,   0,   0,   0,   0,   0,   0,   0,   0,   0,\n",
            "           0,   0,   0,   0,   0,   0,   0,   0,   0,   0,   0,   0,\n",
            "           0,   0,   0,   0,   0,   0,   0,   0,   0,   0,   0,   0,\n",
            "           0,   0,   0,   0,   0,   0,   0,   0,   0,   0,   0,   0,\n",
            "           0,   0,   0,   0,   0,   0,   0,   0,   0,   0,   0,   0,\n",
            "           0,   0,   0,   0,   0,   0,   0,   0,   0,   0,   0,   0,\n",
            "           0,   0,   0,   0,   0,   0,   0,   0,   0,   0,   0,   0,\n",
            "           0,   0,   0,   0,   0,   0,   0,   0,   0,   0,   0,   0,\n",
            "           0,   0,   0,   0,   0,   0,   0,   0,   0,   0,   0,   0,\n",
            "           0,   0,   0,   0,   0,   0,   0,   0,   0,   0,   0,   0,\n",
            "           0,   0,   0,   0,   0,   0,   0,   0,   0,   0,   0,   0,\n",
            "           0,   0,   0,   0,   0,   0,   0,   0,   0,   0,   0,   0,\n",
            "           0,   0,   0,   0,   0,   0,   0,   0,   0,   0,   0,   0,\n",
            "           0,   0,   0,   0,   0,   0,   0,   0,   0,   0,   0,   0,\n",
            "           0,   0,   0,   0,   0,   0,   0,   0,   0,   0,   0,   0,\n",
            "           0,   0,   0,   0,   0,   0,   0,   0,   0,   0,   0,   0,\n",
            "           0,   0,   0,   0,   0,   0,   0,   0,   0,   0,   0,   1,\n",
            "         109, 109, 109, 109, 110, 109, 129, 253, 110, 109,  31,   0,\n",
            "           0,   0,   0,   0,   0,   0,   0,   0,   0,   0,   0,   0,\n",
            "           0,  21,  94, 217, 252, 252, 252, 252, 253, 252, 252, 252,\n",
            "         253, 252, 227, 134,  42,   0,   0,   0,   0,   0,   0,   0,\n",
            "           0,   0,   0,   0,   0, 176, 252, 252, 252, 252, 252, 252,\n",
            "         253, 252, 252, 252, 253, 252, 252, 252, 222, 139,  11,   0,\n",
            "           0,   0,   0,   0,   0,   0,   0,   0,   0, 217, 252, 252,\n",
            "         252, 128, 108, 108, 108, 108, 108, 108, 108, 232, 252, 252,\n",
            "         253, 252,  71,   0,   0,   0,   0,   0,   0,   0,   0,   0,\n",
            "           0,  42, 159, 252, 252, 210,  31,   0,   0,   0,   0,   0,\n",
            "           0,   0,  37, 252, 253, 252,  71,   0,   0,   0,   0,   0,\n",
            "           0,   0,   0,   0,   0,   0,   5, 119, 210, 252, 124,  31,\n",
            "           0,   0,   0,   0,   0,   0,  37, 252, 253, 231,  51,   0,\n",
            "           0,   0,   0,   0,   0,   0,   0,   0,   0,   0,   0,   0,\n",
            "          31, 195, 195,  31,   0,   0,   0,   0,   0,   0, 140, 252,\n",
            "         253, 158,   0,   0,   0,   0,   0,   0,   0,   0,   0,   0,\n",
            "           0,   0,   0,   0,   0,   0,   0,   0,   0,   0,   0,   0,\n",
            "           0,  42, 221, 252, 191,  15,   0,   0,   0,   0,   0,   0,\n",
            "           0,   0,   0,   0,   0,   0,   0,   0,   0,   0,   0,   0,\n",
            "           0,   0,   0,   0,   0, 218, 253, 253,  84,   0,   0,   0,\n",
            "           0,   0,   0,   0,   0,   0,   0,   0,   0,   0,   0,   0,\n",
            "           0,   0,   0,   0,   0,   0,   0,   0,  94, 247, 252, 210,\n",
            "           0,   0,   0,   0,   0,   0,   0,   0,   0,   0,   0,   0,\n",
            "           0,   0,   0,   0,   0,   0,   0,   0,   0,   0,   0,  21,\n",
            "         212, 252, 226,  31,   0,   0,   0,   0,   0,   0,   0,   0,\n",
            "           0,   0,   0,   0,   0,   0,   0,   0,   0,   0,   0,   0,\n",
            "           0,   0,   0, 144, 253, 252, 132,   0,   0,   0,   0,   0,\n",
            "           0,   0,   0,   0,   0,   0,   0,   0,   0,   0,   0,   0,\n",
            "           0,   0,   0,   0,   0,   0,  99, 253, 255, 222,  41,   0,\n",
            "           0,   0,   0,   0,   0,   0,   0,   0,   0,   0,   0,   0,\n",
            "           0,   0,   0,   0,   0,   0,   0,   0,   0,  21, 201, 252,\n",
            "         253,  55,   0,   0,   0,   0,   0,   0,   0,   0,   0,   0,\n",
            "           0,   0,   0,   0,   0,   0,   0,   0,   0,   0,   0,   0,\n",
            "           0,  94, 252, 252, 175,  10,   0,   0,   0,   0,   0,   0,\n",
            "           0,   0,   0,   0,   0,   0,   0,   0,   0,   0,   0,   0,\n",
            "           0,   0,   0,   0,   0, 217, 252, 252,  62,   0,   0,   0,\n",
            "           0,   0,   0,   0,   0,   0,   0,   0,   0,   0,   0,   0,\n",
            "           0,   0,   0,   0,   0,   0,   0,   0, 171, 253, 253, 170,\n",
            "         110,  78,   0,   0,   0,   0,   0,   0,   0,   0,   0,   0,\n",
            "           0,   0,   0,   0,   0,   0,   0,   0,   0,   0,   0,   0,\n",
            "         253, 252, 252, 252, 253,  55,   0,   0,   0,   0,   0,   0,\n",
            "           0,   0,   0,   0,   0,   0,   0,   0,   0,   0,   0,   0,\n",
            "           0,   0,   0,   0, 253, 252, 252, 252, 154,  10,   0,   0,\n",
            "           0,   0,   0,   0,   0,   0,   0,   0,   0,   0,   0,   0,\n",
            "           0,   0,   0,   0,   0,   0,   0,   0, 253, 252, 252, 168,\n",
            "           0,   0,   0,   0,   0,   0,   0,   0,   0,   0,   0,   0,\n",
            "           0,   0,   0,   0,   0,   0,   0,   0,   0,   0,   0,   0,\n",
            "           0,   0,   0,   0,   0,   0,   0,   0,   0,   0,   0,   0,\n",
            "           0,   0,   0,   0]]], dtype=uint8)>, 'label': <tf.Tensor: shape=(1,), dtype=int32, numpy=array([7], dtype=int32)>}\n"
          ],
          "name": "stdout"
        }
      ]
    },
    {
      "cell_type": "code",
      "metadata": {
        "id": "vUDrGehcZ4oQ"
      },
      "source": [
        "#define preprocessing parameters\r\n",
        "NUM_EPOCHS = 5\r\n",
        "BATCH_SIZE = 20\r\n",
        "SHUFFLE_BUFFER = 100\r\n",
        "PREFETCH_BUFFER=10\r\n",
        "\r\n",
        "#define a preprocessing function\r\n",
        "def preprocess(dataset):\r\n",
        "  #define batch formatting function\r\n",
        "  def batch_format_fn(element):\r\n",
        "    print(type(element))\r\n",
        "    return collections.OrderedDict(\r\n",
        "        x=tf.reshape(element['pixels'],[-1,784]),\r\n",
        "        y=tf.reshape(element['label'],[-1,1])\r\n",
        "    )\r\n",
        "  return dataset.repeat(NUM_EPOCHS).shuffle(SHUFFLE_BUFFER).batch(\r\n",
        "      BATCH_SIZE).map(batch_format_fn).prefetch(PREFETCH_BUFFER)"
      ],
      "execution_count": 8,
      "outputs": []
    },
    {
      "cell_type": "code",
      "metadata": {
        "colab": {
          "base_uri": "https://localhost:8080/"
        },
        "id": "e84Dkyk0aTJU",
        "outputId": "d274d084-4a63-4aa5-ce0a-f73b7406c25b"
      },
      "source": [
        "#examine results of preprocessing function on example dataset\r\n",
        "\r\n",
        "preprocessed_example_dataset = preprocess(example_dataset)\r\n",
        "\r\n",
        "sample_batch = tf.nest.map_structure(lambda x: x.numpy(),\r\n",
        "                                     next(iter(preprocessed_example_dataset)))\r\n",
        "\r\n",
        "sample_batch"
      ],
      "execution_count": 9,
      "outputs": [
        {
          "output_type": "stream",
          "text": [
            "<class 'dict'>\n"
          ],
          "name": "stdout"
        },
        {
          "output_type": "execute_result",
          "data": {
            "text/plain": [
              "OrderedDict([('x', array([[0, 0, 0, ..., 0, 0, 0],\n",
              "                     [0, 0, 0, ..., 0, 0, 0],\n",
              "                     [0, 0, 0, ..., 0, 0, 0],\n",
              "                     ...,\n",
              "                     [0, 0, 0, ..., 0, 0, 0],\n",
              "                     [0, 0, 0, ..., 0, 0, 0],\n",
              "                     [0, 0, 0, ..., 0, 0, 0]], dtype=uint8)), ('y', array([[3],\n",
              "                     [1],\n",
              "                     [1],\n",
              "                     [5],\n",
              "                     [6],\n",
              "                     [4],\n",
              "                     [3],\n",
              "                     [1],\n",
              "                     [6],\n",
              "                     [2],\n",
              "                     [7],\n",
              "                     [4],\n",
              "                     [9],\n",
              "                     [4],\n",
              "                     [8],\n",
              "                     [9],\n",
              "                     [7],\n",
              "                     [0],\n",
              "                     [6],\n",
              "                     [9]], dtype=int32))])"
            ]
          },
          "metadata": {
            "tags": []
          },
          "execution_count": 9
        }
      ]
    },
    {
      "cell_type": "code",
      "metadata": {
        "colab": {
          "base_uri": "https://localhost:8080/",
          "height": 305
        },
        "id": "Vw6DB30SazeX",
        "outputId": "c5c50e40-d57b-4539-bb7a-34b55e654a73"
      },
      "source": [
        "#render an image from the preprocessed data\r\n",
        "\r\n",
        "import matplotlib.pyplot as plt\r\n",
        "plt.imshow(sample_batch['x'][0].reshape(28,28), cmap='gray', aspect='equal')"
      ],
      "execution_count": 10,
      "outputs": [
        {
          "output_type": "execute_result",
          "data": {
            "text/plain": [
              "<matplotlib.image.AxesImage at 0x7fbde772ea90>"
            ]
          },
          "metadata": {
            "tags": []
          },
          "execution_count": 10
        },
        {
          "output_type": "display_data",
          "data": {
            "image/png": "[encoded data removed]",
            "text/plain": [
              "<Figure size 432x288 with 1 Axes>"
            ]
          },
          "metadata": {
            "tags": [],
            "needs_background": "light"
          }
        }
      ]
    },
    {
      "cell_type": "code",
      "metadata": {
        "id": "EYa7c3HQa_-i"
      },
      "source": [
        "#define function to transform datasets into federated system data\r\n",
        "\r\n",
        "def make_federated_data(client_data, client_ids):\r\n",
        "  return [\r\n",
        "      preprocess(client_data.create_tf_dataset_for_client(x))\r\n",
        "      for x in client_ids\r\n",
        "  ]"
      ],
      "execution_count": 11,
      "outputs": []
    },
    {
      "cell_type": "code",
      "metadata": {
        "colab": {
          "base_uri": "https://localhost:8080/"
        },
        "id": "UPHucglwbMdw",
        "outputId": "e4c45ce0-28da-4a5f-c818-90251811913c"
      },
      "source": [
        "#create the federated data\r\n",
        "federated_training_data = make_federated_data(train_data, [0,1,2,3,4,5,6,7,8,9])\r\n",
        "#print number of client datasets and first dataset\r\n",
        "print('Number of client datasets: {l}'.format(l=len(federated_training_data)))\r\n",
        "print('First dataset: {d}'.format(d=federated_training_data[0]))"
      ],
      "execution_count": 12,
      "outputs": [
        {
          "output_type": "stream",
          "text": [
            "<class 'dict'>\n",
            "<class 'dict'>\n",
            "<class 'dict'>\n",
            "<class 'dict'>\n",
            "<class 'dict'>\n",
            "<class 'dict'>\n",
            "<class 'dict'>\n",
            "<class 'dict'>\n",
            "<class 'dict'>\n",
            "<class 'dict'>\n",
            "Number of client datasets: 10\n",
            "First dataset: <PrefetchDataset shapes: OrderedDict([(x, (None, 784)), (y, (None, 1))]), types: OrderedDict([(x, tf.uint8), (y, tf.int32)])>\n"
          ],
          "name": "stdout"
        }
      ]
    },
    {
      "cell_type": "code",
      "metadata": {
        "id": "5HWeBEWPba8O"
      },
      "source": [
        "#define function to create Keras model -- this will be the federated model\r\n",
        "def create_keras_model():\r\n",
        "  return tf.keras.models.Sequential([\r\n",
        "      tf.keras.layers.Input(shape=(784,)),\r\n",
        "      tf.keras.layers.Dense(10, kernel_initializer='zeros'),\r\n",
        "      tf.keras.layers.Softmax(),\r\n",
        "  ])"
      ],
      "execution_count": 13,
      "outputs": []
    },
    {
      "cell_type": "code",
      "metadata": {
        "id": "_z1WL--jbpqr"
      },
      "source": [
        "#define function to instantiate keras model as a federated learning model\r\n",
        "#pass keras model, preprocessed_example_dataset, loss function, and metrics into tff.learning.from_keras_model\r\n",
        "def model_fn():\r\n",
        "  keras_model = create_keras_model()\r\n",
        "  return tff.learning.from_keras_model(\r\n",
        "      keras_model,\r\n",
        "     input_spec=preprocessed_example_dataset.element_spec,\r\n",
        "      loss=tf.keras.losses.SparseCategoricalCrossentropy(),\r\n",
        "      metrics=[tf.keras.metrics.SparseCategoricalAccuracy()])"
      ],
      "execution_count": 14,
      "outputs": []
    },
    {
      "cell_type": "code",
      "metadata": {
        "id": "M-UQ14O9cOAF"
      },
      "source": [
        "#build federated process\r\n",
        "#define the server-side and client-side optimizers\r\n",
        "iterative_process = tff.learning.build_federated_averaging_process(\r\n",
        "    model_fn,\r\n",
        "    client_optimizer_fn=lambda: tf.keras.optimizers.SGD(learning_rate=0.01),\r\n",
        "    server_optimizer_fn=lambda: tf.keras.optimizers.Adam(learning_rate=0.1))"
      ],
      "execution_count": 15,
      "outputs": []
    },
    {
      "cell_type": "code",
      "metadata": {
        "id": "AkhHxDGXcZYq"
      },
      "source": [
        "#initialize federated learning process\r\n",
        "state = iterative_process.initialize()"
      ],
      "execution_count": 16,
      "outputs": []
    },
    {
      "cell_type": "code",
      "metadata": {
        "colab": {
          "base_uri": "https://localhost:8080/"
        },
        "id": "drN8wlG6cdh-",
        "outputId": "a0e78a0a-51fb-4a03-d15d-3046e22224c2"
      },
      "source": [
        "#define number of iterations\r\n",
        "NUM_ROUNDS = 51\r\n",
        "#perform federated learning process\r\n",
        "for round_num in range(1, NUM_ROUNDS):\r\n",
        "  state, metrics = iterative_process.next(state, federated_training_data)\r\n",
        "  print('round {:2d}, metrics={}'.format(round_num, metrics))"
      ],
      "execution_count": 17,
      "outputs": [
        {
          "output_type": "stream",
          "text": [
            "round  1, metrics=OrderedDict([('broadcast', ()), ('aggregation', OrderedDict([('mean_value', ()), ('mean_weight', ())])), ('train', OrderedDict([('sparse_categorical_accuracy', 0.98684), ('loss', 0.2065878)])), ('stat', OrderedDict([('num_examples', 500000)]))])\n",
            "round  2, metrics=OrderedDict([('broadcast', ()), ('aggregation', OrderedDict([('mean_value', ()), ('mean_weight', ())])), ('train', OrderedDict([('sparse_categorical_accuracy', 0.987604), ('loss', 0.19884218)])), ('stat', OrderedDict([('num_examples', 500000)]))])\n",
            "round  3, metrics=OrderedDict([('broadcast', ()), ('aggregation', OrderedDict([('mean_value', ()), ('mean_weight', ())])), ('train', OrderedDict([('sparse_categorical_accuracy', 0.988318), ('loss', 0.18743905)])), ('stat', OrderedDict([('num_examples', 500000)]))])\n",
            "round  4, metrics=OrderedDict([('broadcast', ()), ('aggregation', OrderedDict([('mean_value', ()), ('mean_weight', ())])), ('train', OrderedDict([('sparse_categorical_accuracy', 0.989352), ('loss', 0.17062238)])), ('stat', OrderedDict([('num_examples', 500000)]))])\n",
            "round  5, metrics=OrderedDict([('broadcast', ()), ('aggregation', OrderedDict([('mean_value', ()), ('mean_weight', ())])), ('train', OrderedDict([('sparse_categorical_accuracy', 0.990646), ('loss', 0.14998695)])), ('stat', OrderedDict([('num_examples', 500000)]))])\n",
            "round  6, metrics=OrderedDict([('broadcast', ()), ('aggregation', OrderedDict([('mean_value', ()), ('mean_weight', ())])), ('train', OrderedDict([('sparse_categorical_accuracy', 0.991456), ('loss', 0.13694845)])), ('stat', OrderedDict([('num_examples', 500000)]))])\n",
            "round  7, metrics=OrderedDict([('broadcast', ()), ('aggregation', OrderedDict([('mean_value', ()), ('mean_weight', ())])), ('train', OrderedDict([('sparse_categorical_accuracy', 0.99253), ('loss', 0.11940553)])), ('stat', OrderedDict([('num_examples', 500000)]))])\n",
            "round  8, metrics=OrderedDict([('broadcast', ()), ('aggregation', OrderedDict([('mean_value', ()), ('mean_weight', ())])), ('train', OrderedDict([('sparse_categorical_accuracy', 0.99323), ('loss', 0.10836595)])), ('stat', OrderedDict([('num_examples', 500000)]))])\n",
            "round  9, metrics=OrderedDict([('broadcast', ()), ('aggregation', OrderedDict([('mean_value', ()), ('mean_weight', ())])), ('train', OrderedDict([('sparse_categorical_accuracy', 0.994062), ('loss', 0.09499568)])), ('stat', OrderedDict([('num_examples', 500000)]))])\n",
            "round 10, metrics=OrderedDict([('broadcast', ()), ('aggregation', OrderedDict([('mean_value', ()), ('mean_weight', ())])), ('train', OrderedDict([('sparse_categorical_accuracy', 0.994428), ('loss', 0.0891939)])), ('stat', OrderedDict([('num_examples', 500000)]))])\n",
            "round 11, metrics=OrderedDict([('broadcast', ()), ('aggregation', OrderedDict([('mean_value', ()), ('mean_weight', ())])), ('train', OrderedDict([('sparse_categorical_accuracy', 0.995122), ('loss', 0.078059815)])), ('stat', OrderedDict([('num_examples', 500000)]))])\n",
            "round 12, metrics=OrderedDict([('broadcast', ()), ('aggregation', OrderedDict([('mean_value', ()), ('mean_weight', ())])), ('train', OrderedDict([('sparse_categorical_accuracy', 0.995542), ('loss', 0.0712447)])), ('stat', OrderedDict([('num_examples', 500000)]))])\n",
            "round 13, metrics=OrderedDict([('broadcast', ()), ('aggregation', OrderedDict([('mean_value', ()), ('mean_weight', ())])), ('train', OrderedDict([('sparse_categorical_accuracy', 0.99568), ('loss', 0.068940476)])), ('stat', OrderedDict([('num_examples', 500000)]))])\n",
            "round 14, metrics=OrderedDict([('broadcast', ()), ('aggregation', OrderedDict([('mean_value', ()), ('mean_weight', ())])), ('train', OrderedDict([('sparse_categorical_accuracy', 0.99611), ('loss', 0.062308956)])), ('stat', OrderedDict([('num_examples', 500000)]))])\n",
            "round 15, metrics=OrderedDict([('broadcast', ()), ('aggregation', OrderedDict([('mean_value', ()), ('mean_weight', ())])), ('train', OrderedDict([('sparse_categorical_accuracy', 0.996438), ('loss', 0.057045363)])), ('stat', OrderedDict([('num_examples', 500000)]))])\n",
            "round 16, metrics=OrderedDict([('broadcast', ()), ('aggregation', OrderedDict([('mean_value', ()), ('mean_weight', ())])), ('train', OrderedDict([('sparse_categorical_accuracy', 0.996608), ('loss', 0.054294247)])), ('stat', OrderedDict([('num_examples', 500000)]))])\n",
            "round 17, metrics=OrderedDict([('broadcast', ()), ('aggregation', OrderedDict([('mean_value', ()), ('mean_weight', ())])), ('train', OrderedDict([('sparse_categorical_accuracy', 0.996662), ('loss', 0.05334557)])), ('stat', OrderedDict([('num_examples', 500000)]))])\n",
            "round 18, metrics=OrderedDict([('broadcast', ()), ('aggregation', OrderedDict([('mean_value', ()), ('mean_weight', ())])), ('train', OrderedDict([('sparse_categorical_accuracy', 0.997128), ('loss', 0.045992896)])), ('stat', OrderedDict([('num_examples', 500000)]))])\n",
            "round 19, metrics=OrderedDict([('broadcast', ()), ('aggregation', OrderedDict([('mean_value', ()), ('mean_weight', ())])), ('train', OrderedDict([('sparse_categorical_accuracy', 0.996996), ('loss', 0.048204698)])), ('stat', OrderedDict([('num_examples', 500000)]))])\n",
            "round 20, metrics=OrderedDict([('broadcast', ()), ('aggregation', OrderedDict([('mean_value', ()), ('mean_weight', ())])), ('train', OrderedDict([('sparse_categorical_accuracy', 0.997306), ('loss', 0.04317147)])), ('stat', OrderedDict([('num_examples', 500000)]))])\n",
            "round 21, metrics=OrderedDict([('broadcast', ()), ('aggregation', OrderedDict([('mean_value', ()), ('mean_weight', ())])), ('train', OrderedDict([('sparse_categorical_accuracy', 0.997412), ('loss', 0.0414848)])), ('stat', OrderedDict([('num_examples', 500000)]))])\n",
            "round 22, metrics=OrderedDict([('broadcast', ()), ('aggregation', OrderedDict([('mean_value', ()), ('mean_weight', ())])), ('train', OrderedDict([('sparse_categorical_accuracy', 0.997728), ('loss', 0.0363771)])), ('stat', OrderedDict([('num_examples', 500000)]))])\n",
            "round 23, metrics=OrderedDict([('broadcast', ()), ('aggregation', OrderedDict([('mean_value', ()), ('mean_weight', ())])), ('train', OrderedDict([('sparse_categorical_accuracy', 0.997588), ('loss', 0.038573)])), ('stat', OrderedDict([('num_examples', 500000)]))])\n",
            "round 24, metrics=OrderedDict([('broadcast', ()), ('aggregation', OrderedDict([('mean_value', ()), ('mean_weight', ())])), ('train', OrderedDict([('sparse_categorical_accuracy', 0.99766), ('loss', 0.03749721)])), ('stat', OrderedDict([('num_examples', 500000)]))])\n",
            "round 25, metrics=OrderedDict([('broadcast', ()), ('aggregation', OrderedDict([('mean_value', ()), ('mean_weight', ())])), ('train', OrderedDict([('sparse_categorical_accuracy', 0.997842), ('loss', 0.03450146)])), ('stat', OrderedDict([('num_examples', 500000)]))])\n",
            "round 26, metrics=OrderedDict([('broadcast', ()), ('aggregation', OrderedDict([('mean_value', ()), ('mean_weight', ())])), ('train', OrderedDict([('sparse_categorical_accuracy', 0.997954), ('loss', 0.03282708)])), ('stat', OrderedDict([('num_examples', 500000)]))])\n",
            "round 27, metrics=OrderedDict([('broadcast', ()), ('aggregation', OrderedDict([('mean_value', ()), ('mean_weight', ())])), ('train', OrderedDict([('sparse_categorical_accuracy', 0.997914), ('loss', 0.03338037)])), ('stat', OrderedDict([('num_examples', 500000)]))])\n",
            "round 28, metrics=OrderedDict([('broadcast', ()), ('aggregation', OrderedDict([('mean_value', ()), ('mean_weight', ())])), ('train', OrderedDict([('sparse_categorical_accuracy', 0.997958), ('loss', 0.032507155)])), ('stat', OrderedDict([('num_examples', 500000)]))])\n",
            "round 29, metrics=OrderedDict([('broadcast', ()), ('aggregation', OrderedDict([('mean_value', ()), ('mean_weight', ())])), ('train', OrderedDict([('sparse_categorical_accuracy', 0.998146), ('loss', 0.029681243)])), ('stat', OrderedDict([('num_examples', 500000)]))])\n",
            "round 30, metrics=OrderedDict([('broadcast', ()), ('aggregation', OrderedDict([('mean_value', ()), ('mean_weight', ())])), ('train', OrderedDict([('sparse_categorical_accuracy', 0.998088), ('loss', 0.03062073)])), ('stat', OrderedDict([('num_examples', 500000)]))])\n",
            "round 31, metrics=OrderedDict([('broadcast', ()), ('aggregation', OrderedDict([('mean_value', ()), ('mean_weight', ())])), ('train', OrderedDict([('sparse_categorical_accuracy', 0.998128), ('loss', 0.029931156)])), ('stat', OrderedDict([('num_examples', 500000)]))])\n",
            "round 32, metrics=OrderedDict([('broadcast', ()), ('aggregation', OrderedDict([('mean_value', ()), ('mean_weight', ())])), ('train', OrderedDict([('sparse_categorical_accuracy', 0.99832), ('loss', 0.026855627)])), ('stat', OrderedDict([('num_examples', 500000)]))])\n",
            "round 33, metrics=OrderedDict([('broadcast', ()), ('aggregation', OrderedDict([('mean_value', ()), ('mean_weight', ())])), ('train', OrderedDict([('sparse_categorical_accuracy', 0.998386), ('loss', 0.025881227)])), ('stat', OrderedDict([('num_examples', 500000)]))])\n",
            "round 34, metrics=OrderedDict([('broadcast', ()), ('aggregation', OrderedDict([('mean_value', ()), ('mean_weight', ())])), ('train', OrderedDict([('sparse_categorical_accuracy', 0.99831), ('loss', 0.02694163)])), ('stat', OrderedDict([('num_examples', 500000)]))])\n",
            "round 35, metrics=OrderedDict([('broadcast', ()), ('aggregation', OrderedDict([('mean_value', ()), ('mean_weight', ())])), ('train', OrderedDict([('sparse_categorical_accuracy', 0.998338), ('loss', 0.02649097)])), ('stat', OrderedDict([('num_examples', 500000)]))])\n",
            "round 36, metrics=OrderedDict([('broadcast', ()), ('aggregation', OrderedDict([('mean_value', ()), ('mean_weight', ())])), ('train', OrderedDict([('sparse_categorical_accuracy', 0.998504), ('loss', 0.023831926)])), ('stat', OrderedDict([('num_examples', 500000)]))])\n",
            "round 37, metrics=OrderedDict([('broadcast', ()), ('aggregation', OrderedDict([('mean_value', ()), ('mean_weight', ())])), ('train', OrderedDict([('sparse_categorical_accuracy', 0.998544), ('loss', 0.023417715)])), ('stat', OrderedDict([('num_examples', 500000)]))])\n",
            "round 38, metrics=OrderedDict([('broadcast', ()), ('aggregation', OrderedDict([('mean_value', ()), ('mean_weight', ())])), ('train', OrderedDict([('sparse_categorical_accuracy', 0.998432), ('loss', 0.024961898)])), ('stat', OrderedDict([('num_examples', 500000)]))])\n",
            "round 39, metrics=OrderedDict([('broadcast', ()), ('aggregation', OrderedDict([('mean_value', ()), ('mean_weight', ())])), ('train', OrderedDict([('sparse_categorical_accuracy', 0.998522), ('loss', 0.02364897)])), ('stat', OrderedDict([('num_examples', 500000)]))])\n",
            "round 40, metrics=OrderedDict([('broadcast', ()), ('aggregation', OrderedDict([('mean_value', ()), ('mean_weight', ())])), ('train', OrderedDict([('sparse_categorical_accuracy', 0.998508), ('loss', 0.023903906)])), ('stat', OrderedDict([('num_examples', 500000)]))])\n",
            "round 41, metrics=OrderedDict([('broadcast', ()), ('aggregation', OrderedDict([('mean_value', ()), ('mean_weight', ())])), ('train', OrderedDict([('sparse_categorical_accuracy', 0.998728), ('loss', 0.020231955)])), ('stat', OrderedDict([('num_examples', 500000)]))])\n",
            "round 42, metrics=OrderedDict([('broadcast', ()), ('aggregation', OrderedDict([('mean_value', ()), ('mean_weight', ())])), ('train', OrderedDict([('sparse_categorical_accuracy', 0.998596), ('loss', 0.022409365)])), ('stat', OrderedDict([('num_examples', 500000)]))])\n",
            "round 43, metrics=OrderedDict([('broadcast', ()), ('aggregation', OrderedDict([('mean_value', ()), ('mean_weight', ())])), ('train', OrderedDict([('sparse_categorical_accuracy', 0.99865), ('loss', 0.021516839)])), ('stat', OrderedDict([('num_examples', 500000)]))])\n",
            "round 44, metrics=OrderedDict([('broadcast', ()), ('aggregation', OrderedDict([('mean_value', ()), ('mean_weight', ())])), ('train', OrderedDict([('sparse_categorical_accuracy', 0.99868), ('loss', 0.02115668)])), ('stat', OrderedDict([('num_examples', 500000)]))])\n",
            "round 45, metrics=OrderedDict([('broadcast', ()), ('aggregation', OrderedDict([('mean_value', ()), ('mean_weight', ())])), ('train', OrderedDict([('sparse_categorical_accuracy', 0.998774), ('loss', 0.01959909)])), ('stat', OrderedDict([('num_examples', 500000)]))])\n",
            "round 46, metrics=OrderedDict([('broadcast', ()), ('aggregation', OrderedDict([('mean_value', ()), ('mean_weight', ())])), ('train', OrderedDict([('sparse_categorical_accuracy', 0.998716), ('loss', 0.020500299)])), ('stat', OrderedDict([('num_examples', 500000)]))])\n",
            "round 47, metrics=OrderedDict([('broadcast', ()), ('aggregation', OrderedDict([('mean_value', ()), ('mean_weight', ())])), ('train', OrderedDict([('sparse_categorical_accuracy', 0.998698), ('loss', 0.020760182)])), ('stat', OrderedDict([('num_examples', 500000)]))])\n",
            "round 48, metrics=OrderedDict([('broadcast', ()), ('aggregation', OrderedDict([('mean_value', ()), ('mean_weight', ())])), ('train', OrderedDict([('sparse_categorical_accuracy', 0.99878), ('loss', 0.019483654)])), ('stat', OrderedDict([('num_examples', 500000)]))])\n",
            "round 49, metrics=OrderedDict([('broadcast', ()), ('aggregation', OrderedDict([('mean_value', ()), ('mean_weight', ())])), ('train', OrderedDict([('sparse_categorical_accuracy', 0.998858), ('loss', 0.018187685)])), ('stat', OrderedDict([('num_examples', 500000)]))])\n",
            "round 50, metrics=OrderedDict([('broadcast', ()), ('aggregation', OrderedDict([('mean_value', ()), ('mean_weight', ())])), ('train', OrderedDict([('sparse_categorical_accuracy', 0.998836), ('loss', 0.018544521)])), ('stat', OrderedDict([('num_examples', 500000)]))])\n"
          ],
          "name": "stdout"
        }
      ]
    },
    {
      "cell_type": "markdown",
      "metadata": {
        "id": "F-u4wmIXmsMj"
      },
      "source": [
        "# Model Testing\r\n",
        "\r\n",
        "The following code blocks extract the global federated model resulting from the above training and test its ability to recover from a system fault. A full description of the fault simulation is available in the publication."
      ]
    },
    {
      "cell_type": "code",
      "metadata": {
        "colab": {
          "base_uri": "https://localhost:8080/"
        },
        "id": "OVPhgQeenErc",
        "outputId": "ea8f00c8-5454-4995-9aa1-e30d9ccfc092"
      },
      "source": [
        "#print out the current model state after federated training process has terminated\r\n",
        "state.model"
      ],
      "execution_count": 18,
      "outputs": [
        {
          "output_type": "execute_result",
          "data": {
            "text/plain": [
              "ModelWeights(trainable=[array([[0., 0., 0., ..., 0., 0., 0.],\n",
              "       [0., 0., 0., ..., 0., 0., 0.],\n",
              "       [0., 0., 0., ..., 0., 0., 0.],\n",
              "       ...,\n",
              "       [0., 0., 0., ..., 0., 0., 0.],\n",
              "       [0., 0., 0., ..., 0., 0., 0.],\n",
              "       [0., 0., 0., ..., 0., 0., 0.]], dtype=float32), array([-2.6840055,  1.9107808,  3.5902402, -3.1839533,  2.9094949,\n",
              "        3.1530716, -1.5532839,  3.2383664, -2.8752456, -3.715394 ],\n",
              "      dtype=float32)], non_trainable=[])"
            ]
          },
          "metadata": {
            "tags": []
          },
          "execution_count": 18
        }
      ]
    },
    {
      "cell_type": "code",
      "metadata": {
        "colab": {
          "base_uri": "https://localhost:8080/"
        },
        "id": "mHQP_xg6nO5k",
        "outputId": "c1b42499-0e6e-4f9d-dda9-4991c0a7a27b"
      },
      "source": [
        "#instantiate a new model\r\n",
        "md1 = create_keras_model()\r\n",
        "\r\n",
        "#set the model weights to be equal to the current global federated model\r\n",
        "md1.set_weights(state.model.trainable)\r\n",
        "\r\n",
        "#display a summary of the current model\r\n",
        "md1.summary()"
      ],
      "execution_count": 19,
      "outputs": [
        {
          "output_type": "stream",
          "text": [
            "Model: \"sequential\"\n",
            "_________________________________________________________________\n",
            "Layer (type)                 Output Shape              Param #   \n",
            "=================================================================\n",
            "dense (Dense)                (None, 10)                7850      \n",
            "_________________________________________________________________\n",
            "softmax (Softmax)            (None, 10)                0         \n",
            "=================================================================\n",
            "Total params: 7,850\n",
            "Trainable params: 7,850\n",
            "Non-trainable params: 0\n",
            "_________________________________________________________________\n"
          ],
          "name": "stdout"
        }
      ]
    },
    {
      "cell_type": "code",
      "metadata": {
        "id": "PvWBW_rtngmP"
      },
      "source": [
        "#compile the initialized model using the same optimization settings defined in the client-side optimizer\r\n",
        "md1.compile(loss=tf.keras.losses.SparseCategoricalCrossentropy(), optimizer=tf.keras.optimizers.SGD(learning_rate=0.01), metrics=[tf.keras.metrics.SparseCategoricalAccuracy()])"
      ],
      "execution_count": 20,
      "outputs": []
    },
    {
      "cell_type": "code",
      "metadata": {
        "colab": {
          "base_uri": "https://localhost:8080/",
          "height": 305
        },
        "id": "0O1lKyoHnsj3",
        "outputId": "6e3a4bc2-6b9f-4f17-9844-b4977fbe121e"
      },
      "source": [
        "#create a testing a training set from the MNIST dataset\r\n",
        "(x_train, y_train), (x_test, y_test) = tf.keras.datasets.mnist.load_data()\r\n",
        "\r\n",
        "#reshape the data to the correct format\r\n",
        "x_train_proc = tf.reshape(x_train, [-1, 784])\r\n",
        "x_test_proc = tf.reshape(x_test, [-1, 784])\r\n",
        "y_train_proc = tf.reshape(y_train, [-1, 1])\r\n",
        "y_test_proc =  tf.reshape(y_test, [-1, 1])\r\n",
        "\r\n",
        "#display an example image in the training set\r\n",
        "plt.imshow(x_train[501])"
      ],
      "execution_count": 21,
      "outputs": [
        {
          "output_type": "execute_result",
          "data": {
            "text/plain": [
              "<matplotlib.image.AxesImage at 0x7fbde1244828>"
            ]
          },
          "metadata": {
            "tags": []
          },
          "execution_count": 21
        },
        {
          "output_type": "display_data",
          "data": {
            "image/png": "[encoded data removed]",
            "text/plain": [
              "<Figure size 432x288 with 1 Axes>"
            ]
          },
          "metadata": {
            "tags": [],
            "needs_background": "light"
          }
        }
      ]
    },
    {
      "cell_type": "code",
      "metadata": {
        "colab": {
          "base_uri": "https://localhost:8080/"
        },
        "id": "Shjc1qV8oIGV",
        "outputId": "eb1a707e-7de4-4dab-b10c-47a1d73abf45"
      },
      "source": [
        "#use the global model to predict on the test set\r\n",
        "federated_model_test = np.argmax(md1.predict(x_test_proc), axis=-1)\r\n",
        "\r\n",
        "#calculate the accuracy of the prediction\r\n",
        "accuracy_score(y_test, federated_model_test)\r\n"
      ],
      "execution_count": 22,
      "outputs": [
        {
          "output_type": "execute_result",
          "data": {
            "text/plain": [
              "0.8907"
            ]
          },
          "metadata": {
            "tags": []
          },
          "execution_count": 22
        }
      ]
    },
    {
      "cell_type": "code",
      "metadata": {
        "id": "ogUQdY0PoTtX"
      },
      "source": [
        "#create index masks for each number in the training and testing set\r\n",
        "#these will be used to extract specific digits for simulating the scenarios defined in the publication\r\n",
        "\r\n",
        "a1= (y_train == 0)\r\n",
        "b1 = (y_train == 1)\r\n",
        "c1 = (y_train == 2)\r\n",
        "d1= (y_train == 3)\r\n",
        "e1 = (y_train == 4)\r\n",
        "f1 = (y_train == 5)\r\n",
        "g1= (y_train == 6)\r\n",
        "h1 = (y_train == 7)\r\n",
        "i1 = (y_train == 8)\r\n",
        "j1= (y_train == 9)\r\n",
        "\r\n",
        "a2= (y_test == 0)\r\n",
        "b2 = (y_test == 1)\r\n",
        "c2 = (y_test == 2)\r\n",
        "d2= (y_test == 3)\r\n",
        "e2 = (y_test == 4)\r\n",
        "f2 = (y_test == 5)\r\n",
        "g2= (y_test == 6)\r\n",
        "h2 = (y_test == 7)\r\n",
        "i2 = (y_test == 8)\r\n",
        "j2 = (y_test == 9)"
      ],
      "execution_count": 23,
      "outputs": []
    },
    {
      "cell_type": "code",
      "metadata": {
        "id": "l0c7cNcQozab"
      },
      "source": [
        "#create dataset for scenario 1 - even numbers\r\n",
        "y_train_scenario_1 = y_train_proc[a1+c1+e1+g1+i1]\r\n",
        "x_train_scenario_1 = x_train_proc[a1+c1+e1+g1+i1]\r\n",
        "\r\n",
        "y_test_scenario_1 = y_test_proc[a2+c2+e2+g2+i2]\r\n",
        "x_test_scenario_1 = x_test_proc[a2+c2+e2+g2+i2]\r\n"
      ],
      "execution_count": 24,
      "outputs": []
    },
    {
      "cell_type": "code",
      "metadata": {
        "colab": {
          "base_uri": "https://localhost:8080/"
        },
        "id": "TTIUe98-o8At",
        "outputId": "5c05f525-d5ad-433f-f8cb-8cf58a8f2704"
      },
      "source": [
        "#create a local model for the scenario testing\r\n",
        "#this model has oly local knowledge and is therefore only trained on even numbers\r\n",
        "#during the simulated scenarios, odd numbers will be periodically added to the dataset. \r\n",
        "md_scenario_1 = tf.keras.models.Sequential([ tf.keras.layers.Input(shape = (784,)),\r\n",
        "                                  tf.keras.layers.Dense(10, kernel_initializer ='zeros'),\r\n",
        "                                  tf.keras.layers.Softmax()])\r\n",
        "\r\n",
        "#compile the model using the same optimizer settings as the global model\r\n",
        "md_scenario_1.compile(loss=tf.keras.losses.SparseCategoricalCrossentropy(), optimizer=tf.keras.optimizers.SGD(learning_rate=0.01), metrics=[tf.keras.metrics.SparseCategoricalAccuracy()])\r\n",
        "\r\n",
        "#fit the model on the scenario training data\r\n",
        "md_scenario_1.fit(x_train_scenario_1,y_train_scenario_1)\r\n",
        "\r\n",
        "#predict on the scenario testing data\r\n",
        "scenario_1_pred = np.argmax(md_scenario_1.predict(x_test_scenario_1), axis=-1)\r\n",
        "\r\n",
        "#calculate the scenario accuracy\r\n",
        "performance_init = accuracy_score(y_test_scenario_1, scenario_1_pred)"
      ],
      "execution_count": 25,
      "outputs": [
        {
          "output_type": "stream",
          "text": [
            "922/922 [==============================] - 1s 1ms/step - loss: 349.5738 - sparse_categorical_accuracy: 0.8863\n"
          ],
          "name": "stdout"
        }
      ]
    },
    {
      "cell_type": "code",
      "metadata": {
        "id": "a5JfC0z3pbz3"
      },
      "source": [
        "#define the remaining scenarios -- incremental addition of odd numbers to the test set\r\n",
        "\r\n",
        "# even + 1\r\n",
        "y_test_scenario_5 = y_test_proc[a2+c2+e2+g2+i2+b2]\r\n",
        "x_test_scenario_5 = x_test_proc[a2+c2+e2+g2+i2+b2]\r\n",
        "\r\n",
        "#even + 1, 3\r\n",
        "y_test_scenario_6 = y_test_proc[a2+c2+e2+g2+i2+b2+d2]\r\n",
        "x_test_scenario_6 = x_test_proc[a2+c2+e2+g2+i2+b2+d2]\r\n",
        "\r\n",
        "#even + 1, 3, 5\r\n",
        "y_test_scenario_7 = y_test_proc[a2+c2+e2+g2+i2+b2+d2+f2]\r\n",
        "x_test_scenario_7 = x_test_proc[a2+c2+e2+g2+i2+b2+d2+f2]\r\n",
        "\r\n",
        "#even + 1, 3, 5, 7\r\n",
        "y_test_scenario_8 = y_test_proc[a2+c2+e2+g2+i2+b2+d2+f2+h2]\r\n",
        "x_test_scenario_8 = x_test_proc[a2+c2+e2+g2+i2+b2+d2+f2+h2]\r\n",
        "\r\n",
        "#even + 1, 3, 5, 7, 9\r\n",
        "y_test_scenario_9 = y_test_proc[a2+c2+e2+g2+i2+b2+d2+f2+h2+j2]\r\n",
        "x_test_scenario_9 = x_test_proc[a2+c2+e2+g2+i2+b2+d2+f2+h2+j2]"
      ],
      "execution_count": 26,
      "outputs": []
    },
    {
      "cell_type": "code",
      "metadata": {
        "id": "lxoYRhcSqIV1"
      },
      "source": [
        "#local model prediction on the various scenarios defined aboved\r\n",
        "sc1 = []\r\n",
        "\r\n",
        "scenario_5_pred = np.argmax(md_scenario_1.predict(x_test_scenario_5), axis=-1)\r\n",
        "sc1.append(accuracy_score(y_test_scenario_5, scenario_5_pred))\r\n",
        "\r\n",
        "scenario_6_pred = np.argmax(md_scenario_1.predict(x_test_scenario_6), axis=-1)\r\n",
        "sc1.append(accuracy_score(y_test_scenario_6, scenario_6_pred))\r\n",
        "\r\n",
        "scenario_7_pred = np.argmax(md_scenario_1.predict(x_test_scenario_7), axis=-1)\r\n",
        "sc1.append(accuracy_score(y_test_scenario_7, scenario_7_pred))\r\n",
        "\r\n",
        "scenario_8_pred = np.argmax(md_scenario_1.predict(x_test_scenario_8), axis=-1)\r\n",
        "sc1.append(accuracy_score(y_test_scenario_8, scenario_8_pred))\r\n",
        "\r\n",
        "scenario_9_pred = np.argmax(md_scenario_1.predict(x_test_scenario_9), axis=-1)\r\n",
        "sc1.append(accuracy_score(y_test_scenario_9, scenario_9_pred))"
      ],
      "execution_count": 27,
      "outputs": []
    },
    {
      "cell_type": "code",
      "metadata": {
        "id": "CQsHBdOJqjKB"
      },
      "source": [
        "#recovery scenario 1 -- federated global model\r\n",
        "rs_1 = []\r\n",
        "#use the global model in place of the local model \r\n",
        "scenario_1_1_rec_pred = np.argmax(md1.predict(x_test_scenario_9), axis=-1)\r\n",
        "rs_1.append(accuracy_score(y_test_scenario_9, scenario_1_1_rec_pred))\r\n",
        "#performance remains constant across all fault recovery timesteps \r\n",
        "rs_1 = 6*rs_1\r\n"
      ],
      "execution_count": 28,
      "outputs": []
    },
    {
      "cell_type": "code",
      "metadata": {
        "colab": {
          "base_uri": "https://localhost:8080/"
        },
        "id": "nvumH_Lerglo",
        "outputId": "a6ea3b3b-7127-4414-ad88-d46a0406dbf8"
      },
      "source": [
        "# recovery sceario 2 -- train a local model from scratch\r\n",
        "\r\n",
        "#instantiate new model\r\n",
        "md_recovery_2 = tf.keras.models.Sequential([ tf.keras.layers.Input(shape = (784,)),\r\n",
        "                                  tf.keras.layers.Dense(10, kernel_initializer ='zeros'),\r\n",
        "                                  tf.keras.layers.Softmax()])\r\n",
        "md_recovery_2.compile(loss=tf.keras.losses.SparseCategoricalCrossentropy(), optimizer=tf.keras.optimizers.SGD(learning_rate=0.01), metrics=[tf.keras.metrics.SparseCategoricalAccuracy()])\r\n",
        "\r\n",
        "#perform 5 training iterations \r\n",
        "hist2 = md_recovery_2.fit(x_train_proc[1:500], y_train_proc[1:500], epochs = 5, validation_data=(x_test_scenario_9,y_test_scenario_9))\r\n",
        "rs_2 = hist2.history['val_sparse_categorical_accuracy']"
      ],
      "execution_count": 29,
      "outputs": [
        {
          "output_type": "stream",
          "text": [
            "Epoch 1/5\n",
            "16/16 [==============================] - 1s 59ms/step - loss: 1713.4021 - sparse_categorical_accuracy: 0.3504 - val_loss: 747.0728 - val_sparse_categorical_accuracy: 0.6421\n",
            "Epoch 2/5\n",
            "16/16 [==============================] - 0s 21ms/step - loss: 394.0617 - sparse_categorical_accuracy: 0.7586 - val_loss: 450.8682 - val_sparse_categorical_accuracy: 0.7058\n",
            "Epoch 3/5\n",
            "16/16 [==============================] - 0s 22ms/step - loss: 93.9597 - sparse_categorical_accuracy: 0.9048 - val_loss: 521.5106 - val_sparse_categorical_accuracy: 0.6743\n",
            "Epoch 4/5\n",
            "16/16 [==============================] - 0s 22ms/step - loss: 74.6326 - sparse_categorical_accuracy: 0.9345 - val_loss: 324.0416 - val_sparse_categorical_accuracy: 0.7609\n",
            "Epoch 5/5\n",
            "16/16 [==============================] - 0s 22ms/step - loss: 72.1291 - sparse_categorical_accuracy: 0.8962 - val_loss: 417.5116 - val_sparse_categorical_accuracy: 0.7555\n"
          ],
          "name": "stdout"
        }
      ]
    },
    {
      "cell_type": "code",
      "metadata": {
        "colab": {
          "base_uri": "https://localhost:8080/"
        },
        "id": "ifrc5MIasmT_",
        "outputId": "948536ff-d505-43ef-f4e1-b237dc19bb88"
      },
      "source": [
        "#recovery scenario 3 -- previous model re-instantiation + training\r\n",
        "\r\n",
        "#perform 5 training iterations\r\n",
        "hist3 = md_scenario_1.fit(x_train_proc[1:500], y_train_proc[1:500], epochs = 5, validation_data=(x_test_scenario_9,y_test_scenario_9))\r\n",
        "rs_3 = [sc1[-1]] + hist3.history['val_sparse_categorical_accuracy']"
      ],
      "execution_count": 30,
      "outputs": [
        {
          "output_type": "stream",
          "text": [
            "Epoch 1/5\n",
            "16/16 [==============================] - 0s 29ms/step - loss: 1403.0320 - sparse_categorical_accuracy: 0.5932 - val_loss: 471.2638 - val_sparse_categorical_accuracy: 0.7407\n",
            "Epoch 2/5\n",
            "16/16 [==============================] - 0s 22ms/step - loss: 178.6162 - sparse_categorical_accuracy: 0.8798 - val_loss: 451.4392 - val_sparse_categorical_accuracy: 0.7111\n",
            "Epoch 3/5\n",
            "16/16 [==============================] - 0s 22ms/step - loss: 77.6940 - sparse_categorical_accuracy: 0.9118 - val_loss: 288.0914 - val_sparse_categorical_accuracy: 0.8121\n",
            "Epoch 4/5\n",
            "16/16 [==============================] - 0s 21ms/step - loss: 42.0449 - sparse_categorical_accuracy: 0.9399 - val_loss: 390.3116 - val_sparse_categorical_accuracy: 0.7588\n",
            "Epoch 5/5\n",
            "16/16 [==============================] - 0s 22ms/step - loss: 36.8379 - sparse_categorical_accuracy: 0.9459 - val_loss: 327.8441 - val_sparse_categorical_accuracy: 0.8122\n"
          ],
          "name": "stdout"
        }
      ]
    },
    {
      "cell_type": "markdown",
      "metadata": {
        "id": "pCU7yI95s-8W"
      },
      "source": [
        "#Graphing and Visualization\r\n",
        "\r\n",
        "The following code block display the visualization generated from the above results."
      ]
    },
    {
      "cell_type": "code",
      "metadata": {
        "id": "YlhWoomWtIQW"
      },
      "source": [
        "# define initial model performance\r\n",
        "initial_performance = {'time':[1,2,3,4,5],\r\n",
        "                       'performance':[performance_init,performance_init,performance_init,performance_init,performance_init]}\r\n",
        "\r\n",
        "# define performance during transition scenarios \r\n",
        "s1_performance = {'time':[6,7,8,9,10],\r\n",
        "                       'performance':sc1}             \r\n",
        "\r\n",
        "#define performance during fault\r\n",
        "\r\n",
        "fault_performance = {'time':[11,12,13,14,15],\r\n",
        "                     'performance':[0,0,0,0,0]}\r\n",
        "\r\n",
        "#pre recovery performance\r\n",
        "data = pd.DataFrame(initial_performance).append(pd.DataFrame(s1_performance), ignore_index = True).append(pd.DataFrame(fault_performance), ignore_index = True)    "
      ],
      "execution_count": 31,
      "outputs": []
    },
    {
      "cell_type": "code",
      "metadata": {
        "colab": {
          "base_uri": "https://localhost:8080/",
          "height": 680
        },
        "id": "xNg24vqlzvrS",
        "outputId": "5e8921d8-ec21-46f1-db65-28b24045f1d9"
      },
      "source": [
        "#create figure\r\n",
        "fig = plt.figure(figsize = (20,10))\r\n",
        "plt.plot(data['time'], data['performance'], color = 'black',lw = 5, label = 'pre-recovery performance' )\r\n",
        "plt.xlabel('Epochs')\r\n",
        "plt.xlim(1,20)\r\n",
        "plt.xticks([1,2,3,4,5,6,7,8,9,10,11,12,13,14,15,16,17,18,19,20])\r\n",
        "plt.ylabel('Classification Accuracy')\r\n",
        "plt.ylim(0,1.1)\r\n",
        "plt.yticks()\r\n",
        "plt.title('Failure Scenario Recovery Strategies')\r\n",
        "plt.axvspan(1,5, color = 'green', alpha = 0.25)\r\n",
        "plt.axvspan(5,10, color = 'orange', alpha = 0.25)\r\n",
        "plt.axvspan(10,15, color = 'red', alpha = 0.25)\r\n",
        "plt.axvspan(15,20, color = 'blue', alpha = 0.25)\r\n",
        "\r\n",
        "\r\n",
        "area_labels = ['pre-construction', 'during construction', 'fault', 'fault recovery']\r\n",
        "props1 =  dict(boxstyle='round', facecolor='green', alpha=1)\r\n",
        "props2 =  dict(boxstyle='round', facecolor='yellow', alpha=1)\r\n",
        "props3 =  dict(boxstyle='round', facecolor='red', alpha=1)\r\n",
        "props4 =  dict(boxstyle='round', facecolor='blue', alpha=1)\r\n",
        "plt.text(1.21,1.01,area_labels[0], size=10, bbox =  props1 , fontsize  =25, color = 'white')\r\n",
        "plt.text(5.31,1.01,area_labels[1], size=10, bbox =  props2 , fontsize  =25, color = 'black')\r\n",
        "plt.text(12,1.01,area_labels[2], size=10, bbox =  props3 , fontsize  =25, color = 'white')\r\n",
        "plt.text(16.25,1.01,area_labels[3], size=10, bbox =  props4 , fontsize  =25, color = 'white')\r\n",
        "\r\n",
        "#plot post recovery performance\r\n",
        "rs_2.insert(0,0)\r\n",
        "plt.plot( [15,16,17,18,19,20], rs_1, color = 'darkgreen', lw = 3, label = 'federated recovery')\r\n",
        "plt.plot( [15,16,17,18,19,20], rs_2, color = 'darkred', lw = 3, label = 'start from scratch')\r\n",
        "plt.plot( [15,16,17,18,19,20], rs_3, color = 'darkorange', lw = 3, label = 'previous model re-instantiation')\r\n",
        "\r\n",
        "plt.legend(fontsize = 20, loc =3)"
      ],
      "execution_count": 32,
      "outputs": [
        {
          "output_type": "execute_result",
          "data": {
            "text/plain": [
              "<matplotlib.legend.Legend at 0x7fbddf3f9c88>"
            ]
          },
          "metadata": {
            "tags": []
          },
          "execution_count": 32
        },
        {
          "output_type": "display_data",
          "data": {
            "image/png": "[encoded data removed]",
            "text/plain": [
              "<Figure size 1440x720 with 1 Axes>"
            ]
          },
          "metadata": {
            "tags": [],
            "needs_background": "light"
          }
        }
      ]
    },
    {
      "cell_type": "code",
      "metadata": {
        "id": "blkltjb6GKJb"
      },
      "source": [
        "#save figure \r\n",
        "fig.savefig('Failure_Scenario_Recovery_Strategies_Final.png', dpi = 300, bbox = 'tight')"
      ],
      "execution_count": 33,
      "outputs": []
    }
  ]
}